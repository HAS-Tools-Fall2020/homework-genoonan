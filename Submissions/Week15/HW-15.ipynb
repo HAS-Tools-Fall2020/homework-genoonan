{
 "cells": [
  {
   "cell_type": "code",
   "execution_count": 1,
   "metadata": {},
   "outputs": [
    {
     "name": "stdout",
     "output_type": "stream",
     "text": [
      "....Import Successful\n",
      "....Dataframe is Ready\n",
      "The mean flow for the last 7 days is: 158.71\n",
      "The mean flow for the last 14 days is: 154.0\n",
      "\n",
      "\n",
      "One-week Beginning and End Flow Values\n",
      "158.0\n",
      "162.0\n",
      "\n",
      "\n",
      "Two-week Beginning and End Flow Values\n",
      "145.0\n",
      "162.0\n",
      "\n",
      "\n",
      "Overall flow fluctuation in past 7 days was 2.53 percent.\n",
      "Overall flow fluctuation in past 14 days was 11.72 percent.\n",
      "\n",
      "\n",
      "Figure 4. Two-week flow trend\n"
     ]
    },
    {
     "name": "stderr",
     "output_type": "stream",
     "text": [
      "C:\\Users\\gilli\\miniconda3\\envs\\hastools\\lib\\site-packages\\numpy\\core\\fromnumeric.py:3370: FutureWarning: DataFrame.mean and DataFrame.median with numeric_only=None will include datetime64 and datetime64tz columns in a future version.\n",
      "  return mean(axis=axis, dtype=dtype, out=out, **kwargs)\n"
     ]
    },
    {
     "data": {
      "image/png": "[encoded data removed]",
      "text/plain": [
       "<Figure size 432x288 with 1 Axes>"
      ]
     },
     "metadata": {
      "needs_background": "light"
     },
     "output_type": "display_data"
    },
    {
     "name": "stdout",
     "output_type": "stream",
     "text": [
      "The one-week flow prediction is 162.7 cfs\n",
      "The two-week flow prediction is 165.0 cfs\n"
     ]
    }
   ],
   "source": [
    "# %%\n",
    "import numpy as np\n",
    "import pandas as pd\n",
    "import matplotlib.pyplot as plt\n",
    "\n",
    "print(\"....Import Successful\")\n",
    "\n",
    "# Replace parts of url with variables\n",
    "site = '09506000'\n",
    "start = '1989-01-01'\n",
    "end = '2020-12-05'  # Update end date each week to Saturday\n",
    "\n",
    "url = \"https://waterdata.usgs.gov/nwis/dv?cb_00060=on&format=rdb&site_no=\" + \\\n",
    "       site + \"&referred_module=sw&period=&begin_date=\" + start + \"&end_date=\" + \\\n",
    "       end\n",
    "data = pd.read_table(url, skiprows=30, names=['agency_cd', 'site_no',\n",
    "                                              'datetime', 'flow', 'code'],\n",
    "                     parse_dates=['datetime'])\n",
    "\n",
    "# Expand the dates to year month day\n",
    "data['year'] = pd.DatetimeIndex(data['datetime']).year\n",
    "data['month'] = pd.DatetimeIndex(data['datetime']).month\n",
    "data['day'] = pd.DatetimeIndex(data['datetime']).day\n",
    "\n",
    "print(\"....Dataframe is Ready\")\n",
    "\n",
    "# Look at tables of statistics for last 7 and 14 days\n",
    "data_weekly = data.tail(7)\n",
    "data_two_wks = data.tail(14)\n",
    "\n",
    "# Get one-week and two-week mean values\n",
    "mean_1wk = round(np.mean(data_weekly)[\"flow\"], 2)\n",
    "print(\"The mean flow for the last 7 days is:\", mean_1wk)\n",
    "\n",
    "mean_2wk = round(np.mean(data_two_wks)[\"flow\"], 2)\n",
    "print(\"The mean flow for the last 14 days is:\", mean_2wk)\n",
    "\n",
    "# Get beginning and end flow values for one-week and two-week periods\n",
    "print(\"\\n\")\n",
    "print(\"One-week Beginning and End Flow Values\")\n",
    "first_val1 = data_weekly.flow.iloc[0]\n",
    "last_val1 = data_weekly.flow.iloc[-1]\n",
    "print(first_val1)\n",
    "print(last_val1)\n",
    "\n",
    "print(\"\\n\")\n",
    "print(\"Two-week Beginning and End Flow Values\")\n",
    "first_val2 = data_two_wks.flow.iloc[0]\n",
    "last_val2 = data_two_wks.flow.iloc[-1]\n",
    "print(first_val2)\n",
    "print(last_val2)\n",
    "\n",
    "# Overall flow flucuation for last 7 and 14 days\n",
    "# Calculate flucuation from start to end of last 7 days\n",
    "perc_chng_total_1wk = ((last_val1 - first_val1)/first_val1)*100\n",
    "print(\"\\n\")\n",
    "print(\"Overall flow fluctuation in past 7 days was\",\n",
    "      round(perc_chng_total_1wk, 2), \"percent.\")\n",
    "\n",
    "# Calculate flucuation from start to end of last 14 days\n",
    "perc_chng_total_2wk = ((last_val2 - first_val2)/first_val2)*100\n",
    "print(\"Overall flow fluctuation in past 14 days was\",\n",
    "      round(perc_chng_total_2wk, 2), \"percent.\")\n",
    "\n",
    "# Look at visual trend over last two weeks\n",
    "fig, ax = plt.subplots()\n",
    "ax.plot(data_two_wks.datetime, data_two_wks.flow)\n",
    "ax.set(title=\"Two-week flow trend\")\n",
    "ax.set(xlabel='Date', ylabel='Daily Flow (cfs)')\n",
    "ax.tick_params(axis='x', labelcolor=\"black\", labelsize=8, rotation=45)\n",
    "print(\"\\n\")\n",
    "print(\"Figure 4. Two-week flow trend\")\n",
    "plt.show()\n",
    "\n",
    "# Trend-based prediction for one-week and two-week forecast values \n",
    "# Based on percent change total from above code block.  If trend is upward,forecast a percentage higher, \n",
    "# if trend is downward, forecast a percentage lower.  Averaging percent change for the 2 week to reduce effect \n",
    "# of lag in trend change recognition.\n",
    "\n",
    "Jill_1wk = mean_1wk + (mean_1wk * (perc_chng_total_1wk/100))\n",
    "print(\"The one-week flow prediction is\", round(Jill_1wk, 1), \"cfs\")\n",
    "\n",
    "Jill_2wk = mean_2wk + (mean_2wk * (((perc_chng_total_2wk+perc_chng_total_1wk)/2)/100))\n",
    "print(\"The two-week flow prediction is\", round(Jill_2wk, 1), \"cfs\")\n",
    "\n",
    "# %%    "
   ]
  },
  {
   "cell_type": "code",
   "execution_count": null,
   "metadata": {},
   "outputs": [],
   "source": []
  }
 ],
 "metadata": {
  "kernelspec": {
   "display_name": "Python [conda env:hastools] *",
   "language": "python",
   "name": "conda-env-hastools-py"
  },
  "language_info": {
   "codemirror_mode": {
    "name": "ipython",
    "version": 3
   },
   "file_extension": ".py",
   "mimetype": "text/x-python",
   "name": "python",
   "nbconvert_exporter": "python",
   "pygments_lexer": "ipython3",
   "version": "3.8.5"
  }
 },
 "nbformat": 4,
 "nbformat_minor": 4
}
